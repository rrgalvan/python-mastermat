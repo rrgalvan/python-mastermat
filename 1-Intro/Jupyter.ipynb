{
 "cells": [
  {
   "cell_type": "markdown",
   "metadata": {},
   "source": [
    "# Jupyter Notebook"
   ]
  },
  {
   "cell_type": "markdown",
   "metadata": {},
   "source": [
    "## Preguntas que sabrás responder al terminar este capítulo:\n",
    "\n",
    "* Qué es Jupyter Notebook\n",
    "* ¿Cómo usar $\\LaTeX$ para escribir matemáticas en Jupyter?\n",
    "* ¿A qué otros formatos se puede convertir un cuaderno Jupyter? "
   ]
  },
  {
   "cell_type": "markdown",
   "metadata": {},
   "source": [
    "### Qué es Jupyter Notebook\n",
    "\n",
    "Según [su página web](http://jupyter.org/):\n",
    "\n",
    "\"The Jupyter Notebook is an \n",
    "\n",
    "* open-source\n",
    "* web application (it runs on a web client)\n",
    "\n",
    "that allows you to \n",
    "\n",
    "* create and share **documents** that contain: \n",
    "\n",
    "    * live code (you can choose: *Python*, *R*, *Octave*, *Scala*,...),\n",
    "    * equations ($\\LaTeX$!),\n",
    "    * visualizations (*HTML*, *images*, *videos*) and\n",
    "    * narrative text (it uses *markdown*).\n",
    "\n",
    "Uses include: **data** cleaning and transformation, **numerical simulation**, **statistical modeling**, data **visualization**, machine learning, and much more.\"\n",
    "\n",
    "It is based on an enhanced Python kernel (and interactive shell) named [IPython](https://ipython.org/). Previous versions of Jupyter were just called *Ipython Notebook*.\n",
    "\n",
    "#### Remarks\n",
    "\n",
    "* Notebooks can be easiliy shared with others using email, Dropbox, GitHub and the [Jupyter Notebook Viewer](http://nbviewer.jupyter.org/)\n",
    "\n",
    "* Existe una [lista de lenguajes disponibles](https://github.com/jupyter/jupyter/wiki/Jupyter-kernels) para Jupyter, aunque algunos (especialmente los no libres, como Mathematica) son sólo pruebas de concepto\n",
    "\n",
    "#### Ejercicios"
   ]
  },
  {
   "cell_type": "markdown",
   "metadata": {},
   "source": [
    "### Uso de $\\LaTeX$"
   ]
  },
  {
   "cell_type": "markdown",
   "metadata": {},
   "source": [
    "### Conversión a otros formatos\n",
    "\n",
    "Para convertir un cuaderno Jupyter a otros formatos, se puede utilizar la opción `File -> Download as` (o, desde consola, la orden `jupyter-nbconvert`). Entre estos formatos se encuentran:\n",
    "\n",
    "* $\\LaTeX$\n",
    "* *HTML* (para publicar páginas web)\n",
    "* *Script* python (`.py`)\n",
    "\n",
    "Para la mayor parte de los formatos (como $\\LaTeX$ y *HTML*), es necesario tener instalado el excelente programa (con licencia libre [pandoc](https://pandoc.org/)). Más información en https://ipython.org/ipython-doc/1/interactive/nbconvert.html   "
   ]
  },
  {
   "cell_type": "code",
   "execution_count": null,
   "metadata": {},
   "outputs": [],
   "source": []
  }
 ],
 "metadata": {
  "kernelspec": {
   "display_name": "Python 3",
   "language": "python",
   "name": "python3"
  },
  "language_info": {
   "codemirror_mode": {
    "name": "ipython",
    "version": 3
   },
   "file_extension": ".py",
   "mimetype": "text/x-python",
   "name": "python",
   "nbconvert_exporter": "python",
   "pygments_lexer": "ipython3",
   "version": "3.5.2"
  }
 },
 "nbformat": 4,
 "nbformat_minor": 2
}
