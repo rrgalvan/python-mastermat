{
 "cells": [
  {
   "cell_type": "markdown",
   "metadata": {
    "deletable": true,
    "editable": true
   },
   "source": [
    "# Introducción e Instalación"
   ]
  },
  {
   "cell_type": "markdown",
   "metadata": {
    "deletable": true,
    "editable": true
   },
   "source": [
    "## Preguntas que sabrás responder al terminar este capítulo:\n",
    "  * ¿Qué es Python y cáles son sus características generales? ¿Por qué usarlo en Matemáticas y en Ciencias?\n",
    "  * Qué versión de Python y qué paquetes es recomendable utilizar para desarrollar software científico\n",
    "  * ¿Qué es IPython? ¿Qué es Jupyter notebook? Cómo puedo utilizar el entorno Jupyter Notebook para el desarrollo interactivo de código Python\n",
    "  * ¿Qúe diferencia hay entre cuadernos (*notebooks*) y programas (*scripts*) en Python? ¿Cómo puedo editar y ejecutar *scripts* en Python?\n",
    "  * Cómo funciona un programa python sencillo en Python y cómo puedo ejecutarlo en estos entornos\n"
   ]
  },
  {
   "cell_type": "code",
   "execution_count": null,
   "metadata": {
    "collapsed": true,
    "deletable": true,
    "editable": true
   },
   "outputs": [],
   "source": []
  }
 ],
 "metadata": {
  "kernelspec": {
   "display_name": "Python 3",
   "language": "python",
   "name": "python3"
  },
  "language_info": {
   "codemirror_mode": {
    "name": "ipython",
    "version": 3
   },
   "file_extension": ".py",
   "mimetype": "text/x-python",
   "name": "python",
   "nbconvert_exporter": "python",
   "pygments_lexer": "ipython3",
   "version": "3.5.2"
  }
 },
 "nbformat": 4,
 "nbformat_minor": 2
}
