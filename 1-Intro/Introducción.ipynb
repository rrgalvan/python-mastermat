{
 "cells": [
  {
   "cell_type": "markdown",
   "metadata": {},
   "source": [
    "# Introducción e Instalación"
   ]
  },
  {
   "cell_type": "markdown",
   "metadata": {},
   "source": [
    "## Preguntas que sabrás responder al terminar este capítulo:\n",
    "  * ¿Qué es Python y cáles son sus características generales? ¿Por qué usarlo en Matemáticas y en Ciencias?\n",
    "  * Qué versión de Python y qué paquetes es recomendable utilizar para desarrollar software científico. ¿Cómo puedo instalarlos?\n",
    "  * ¿Qué es IPython? ¿Qué es Jupyter notebook? Cómo puedo utilizar el entorno Jupyter Notebook para el desarrollo interactivo de código Python\n",
    "  * ¿Qúe diferencia hay entre cuadernos (*notebooks*) y programas o *scripts* en Python? ¿Cómo puedo editar y ejecutar *scripts* en Python?\n",
    "  * Cómo funciona un programa python sencillo en Python y cómo puedo ejecutarlo en estos entornos\n"
   ]
  },
  {
   "cell_type": "markdown",
   "metadata": {
    "collapsed": true
   },
   "source": [
    "# Python científico\n",
    "\n",
    "## ¿Qué es Python?\n",
    "\n",
    "Python es simplemente un *lenguaje de programación* interpretado[^1], con [1](#wikipedia_lenguaje_an_2018) unas características concretas que, como veremos, lo hacen *apropiado para una asignatura como Métodos Numéricos II*.\n",
    "\n",
    "El *intérprete* de Python tiene licencia libre[2], en particular puede descargarse y copiarse gratuitamente. Del mismo modo que muchos *entornos integrados* para el desarrollo de software usando este lenguaje.\n",
    "\n",
    "## ¿Cuáles son sus características?\n",
    "\n",
    "1. Es un lenguaje de **propósito general**[^3]. Es decir, orientado a la escritura de todo tipo de software, no solamente a un ámbito específico.\n",
    "\n",
    "2. Diseñado con énfasis en la **sencillez** del código y el *desarrollo rápido* de software.\n",
    "\n",
    "3. Con *características muy avanzadas*[^5] y con una enorme **cantidad de bibliotecas**[^6] para todo tipo de propósitos, algunas de ellas idóneas para el desarrollo de **software matemático** (Numpy, Scipy, Matplotlib, Pandas...).\n",
    "\n",
    "4. **Muy popular**: entre los programadores, para aplicaciones multipropósito[^4]. En particular, al ser fácilmente acoplable con otros lenguajes (C/C++, Fortran, etc.) constituye el lenguaje usual en interfaces de extensión y acceso rápido a programas y bibliotecas. Particularmente, en bibliotecas científicas de alto rendimiento.\n",
    "\n",
    "\n",
    "## ¿Cómo instalar Python en mi ordenador?\n",
    "\n",
    "Nuestra idea es ambiciosa, pues no sólo deseamos instalar el intérprete de Python, sino **una\n",
    "distribución matemática/científica de Python** que se adapte a nuestras necesidades es decir que integre:\n",
    "\n",
    "* El intérprete Python\n",
    "\n",
    "* Un editor o un entorno de desarrollo adecuado\n",
    "\n",
    "* Las bibliotecas científicas que deseemos utilizar en nuestra área de interés: *simulación numérica*, *estadística*, *cálulo simbólico*, *tratamiento de datos*,...\n",
    "\n",
    "Para ello, existen distintas posibilidades, que agruparemos por sistemas operativos. Es importante subrayar que, en lo fundamental, todas estas distribuciones contienen *exactamente el mismo conjunto de software* que vamos a utilizar (python+bibliotecas+editores).  \n",
    "En algunos sistemas operativos, en especial en Windows, se suelen instalar distribuciones científicas que incluyen otros paquetes o entornos Python (muchos de los cuales, probablemente, no necesitaremos).\n",
    "\n",
    "### Software que utilizaremos\n",
    "\n",
    "El software básico consiste en: el intérprete Python 3 (es decir, versiones 3.x) junto a una serie de paquetes (también conocidos como bibliotecas o módulos) orientados a las matemáticas y a la ciencia (y que se describirán en próximas  secciones):\n",
    "\n",
    "* [Numpy](http://www.numpy.org/) Arrays\n",
    "* [Scipy](https://www.scipy.org/) Objetos matemáticos y científicos\n",
    "* [Matplotlib](https://matplotlib.org/) Gráficas\n",
    "* [Pandas](https://matplotlib.org/) Análisis de datos\n",
    "* [Sympy](www.sympy.org/) Cálculo simbólico\n",
    "\n",
    "\n",
    "Auque para programar en Python puede usarse cualquier editor, existen entornos de desarrollo especializados, entre ellos:\n",
    "\n",
    "* [Jupyter](http://jupyter.org/) Entorno integrado de tipo \"*notebook*\", similar a *Mathematica*. Este entorno está compuesto por celdas que pueden contener código Python o bien texto, fórmulas, imágenes etc. Se suelen utilizar para desarrollo ágil de programas cortos, incluyendo su salida (probablemente, gráfica), documentación, etc. Utilidad en docencia y en investigación [(reproducibilidad de la investigación)]( https://es.wikipedia.org/wiki/Reproducibilidad_y_repetibilidad).\n",
    "* [Spyder](https://github.com/spyder-ide) Editor especializado en Python con un aspecto similar al entorno *Matlab*. Por defecto, está orientado al desarroll tanto de programas cortos (llamados *scripts*) como programas complejos en Python (que podrían consistir en varios ficheros). Todos ellos suelen tener la extensión `.py`.\n",
    "\n",
    "### Entornos Windows\n",
    "\n",
    "\n",
    "* [Anaconda](https://anaconda.org/) Versión muy completa.\n",
    " \n",
    "* [Python(x,y)](https://code.google.com/p/pythonxy/) Versión muy completa.\n",
    "\n",
    "* [WinPython](http://winpython.sourceforge.net/)\n",
    "Versión menos completa pero más ligera.\n",
    "\n",
    "### Entornos Macintosh\n",
    "\n",
    "* [Anaconda](https://anaconda.org/) Versión muy completa.\n",
    "\n",
    "### Entornos GNU/Linux\n",
    "\n",
    "* [Anaconda](https://anaconda.org/) Versión muy completa.\n",
    "\n",
    "* En vez de todo Anaconda, se recomienda instalar solamente los paquetes que se vayan a utilizar. En estos sistemas es muy fácil, por ejemplo, usando el centro de software o la terminal:\n",
    "\n",
    "  Para instalar Python (versión 3, recomendada) junto a los paquetes Numpy,    Scipy, Matplotlib y Pandas y el editor Spider:\n",
    "  ~~~\n",
    "  apt-get update\n",
    "  apt-get install python3-numpy, python3-scipy, python3-matplotlib\n",
    "  apt-get install python3-pandas, spyder\n",
    "  ~~~\n",
    "\n",
    "  Para instalar el entorno Jupyter:\n",
    "  ~~~\n",
    "  apt-get install build-essential python3-dev\n",
    "  pip install jupyter\n",
    "  ~~~\n",
    "\n",
    "\n",
    "[^1]: A diferencia de los lenguajes compilados, los programas en [lenguajes interpretados](http://es.wikipedia.org/wiki/Lenguaje_de_alto_nivel) se ejecutan mediante un *intérprete* (que en ciertos contextos es conocido como *kernel*)\n",
    "\n",
    "[2]: [Software libre en Wikipedia](http://es.wikipedia.org/wiki/Software_libre),\n",
    "\n",
    "[^3]: [Lenguaje de propósito general en Wikipedia](http://es.wikipedia.org/wiki/Lenguaje_de_programaci%C3%B3n_de_prop%C3%B3sito_general)\n",
    "\n",
    "[^4]: Se encuentra entre el 7º y e 8º, entre los lenguajes de programación más usados (véase por ejemplo los índices de popularidad [lang-index](http://lang-index.sourceforge.net), [langpop.com](http://langpop.com/), [tiobe.com](http://www.tiobe.com/index.php/content/paperinfo/tpci/index.html))\n",
    "\n",
    "[^7]: [Introducción a la Computación Científica con Python](http://nbviewer.ipython.org/github/gfrubi/clases-python-cientifico/blob/master/Lecture-0-Scientific-Computing-with-Python.ipynb)"
   ]
  },
  {
   "cell_type": "markdown",
   "metadata": {},
   "source": [
    "## Actividad 1\n",
    "\n",
    "* Instalar un entorno Python científico en el ordenador \n",
    "* Utilizar Spyder para crear y ejecutar un programa llamado `hola_mundo.py` que contenga simplemente la siguiente línea:\n",
    "~~~\n",
    "print(\"Hello world (in english)!\")\n",
    "~~~"
   ]
  },
  {
   "cell_type": "markdown",
   "metadata": {},
   "source": [
    "* Modificar el código anterior para que contenga caracteres no [ASCII](https://es.wikipedia.org/wiki/ASCII). Para ello, el programa debe contener una primera línea en la que se introduzca, en forma de comentario, la codificación de caracteres (UTF-8):\n",
    "~~~\n",
    "# -*- coding: utf-8 -*-\n",
    "print(\"¡Hola mundo (en español)!\")\n",
    "~~~"
   ]
  }
 ],
 "metadata": {
  "kernelspec": {
   "display_name": "Python 3",
   "language": "python",
   "name": "python3"
  },
  "language_info": {
   "codemirror_mode": {
    "name": "ipython",
    "version": 3
   },
   "file_extension": ".py",
   "mimetype": "text/x-python",
   "name": "python",
   "nbconvert_exporter": "python",
   "pygments_lexer": "ipython3",
   "version": "3.5.2"
  }
 },
 "nbformat": 4,
 "nbformat_minor": 2
}
