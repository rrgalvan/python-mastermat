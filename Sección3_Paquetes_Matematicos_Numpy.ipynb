{
 "cells": [
  {
   "cell_type": "markdown",
   "metadata": {},
   "source": [
    "# Sección 3. Paquetes Matemáticos: Numpy"
   ]
  },
  {
   "cell_type": "markdown",
   "metadata": {},
   "source": [
    "## Preguntas que sabrás responder al terminar este capítulo:\n",
    "  * ¿Qué son los paquetes en Python y cómo se utilizan?\n",
    "  * ¿Como se puede trabajar con \n",
    "  * Cómo puedo utilizar el entorno Jupyter Notebook para el desarrollo interactivo de código Python\n",
    "  * Cómo puedo utilizar un editor como Spyder para el desarrollo de programas o *scripts* en Python\n",
    "  * Cómo funciona un programa python sencillo en Python y cómo puedo ejecutarlo en estos entornos\n"
   ]
  },
  {
   "cell_type": "code",
   "execution_count": null,
   "metadata": {},
   "outputs": [],
   "source": []
  }
 ],
 "metadata": {
  "kernelspec": {
   "display_name": "Python 3",
   "language": "python",
   "name": "python3"
  },
  "language_info": {
   "codemirror_mode": {
    "name": "ipython",
    "version": 3
   },
   "file_extension": ".py",
   "mimetype": "text/x-python",
   "name": "python",
   "nbconvert_exporter": "python",
   "pygments_lexer": "ipython3",
   "version": "3.5.2"
  }
 },
 "nbformat": 4,
 "nbformat_minor": 2
}
